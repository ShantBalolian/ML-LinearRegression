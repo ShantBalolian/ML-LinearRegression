{
  "nbformat": 4,
  "nbformat_minor": 0,
  "metadata": {
    "colab": {
      "provenance": []
    },
    "kernelspec": {
      "name": "python3",
      "display_name": "Python 3"
    },
    "language_info": {
      "name": "python"
    }
  },
  "cells": [
    {
      "cell_type": "markdown",
      "source": [
        "**Dataset**\n",
        "\n",
        "---\n",
        "\n",
        "\n",
        "\n",
        "---\n",
        "\n",
        "\n",
        "\n"
      ],
      "metadata": {
        "id": "rPOZmK6MoUWr"
      }
    },
    {
      "cell_type": "code",
      "execution_count": null,
      "metadata": {
        "colab": {
          "base_uri": "https://localhost:8080/"
        },
        "id": "VxibB5FudBmp",
        "outputId": "55e0e48b-b253-446f-8aa7-a90ec7d2d416"
      },
      "outputs": [
        {
          "output_type": "stream",
          "name": "stdout",
          "text": [
            "    Midterm mark  Final mark\n",
            "0           32.5        31.7\n",
            "1           53.4        68.8\n",
            "2           61.5        62.6\n",
            "3           47.5        71.5\n",
            "4           59.8        87.2\n",
            "..           ...         ...\n",
            "95          50.0        81.5\n",
            "96          49.2        72.1\n",
            "97          50.0        85.2\n",
            "98          48.1        66.2\n",
            "99          25.1        53.5\n",
            "\n",
            "[100 rows x 2 columns]\n"
          ]
        }
      ],
      "source": [
        "import pandas as pd\n",
        "import numpy as np\n",
        "import matplotlib.pyplot as plt\n",
        "dataSet = pd.read_csv(\"https://raw.githubusercontent.com/tofighi/MachineLearning/master/datasets/student_marks.csv\")\n",
        "print(dataSet)\n",
        "midtermMarks = dataSet['Midterm mark']\n",
        "finalMarks = dataSet['Final mark']\n"
      ]
    },
    {
      "cell_type": "markdown",
      "source": [
        "**Data preparation and EDA**\n",
        "\n",
        "---\n",
        "\n",
        "\n",
        "\n",
        "---\n",
        "\n"
      ],
      "metadata": {
        "id": "cyx_J7wcoow1"
      }
    },
    {
      "cell_type": "code",
      "source": [
        "midtermMarksMean = midtermMarks.mean()\n",
        "print (\"The mean of the midterm marks are:\\n\",midtermMarksMean,\"\\n\")\n",
        "\n",
        "finalMarksMean = finalMarks.mean()\n",
        "print (\"The mean of the final marks are:\\n\",finalMarksMean,\"\\n\")\n",
        "\n",
        "midtermMarksStd = midtermMarks.std()\n",
        "print (\"The standard deviation of the midterm marks are:\\n\",midtermMarksStd,\"\\n\")\n",
        "\n",
        "finalMarksStd = finalMarks.std()\n",
        "print (\"The standard deviation of the final marks are:\\n\",finalMarksStd,\"\\n\")"
      ],
      "metadata": {
        "colab": {
          "base_uri": "https://localhost:8080/"
        },
        "id": "u-FI8X2woqXM",
        "outputId": "14d24b80-6ab5-4f9e-df48-3f141f7e7c86"
      },
      "execution_count": null,
      "outputs": [
        {
          "output_type": "stream",
          "name": "stdout",
          "text": [
            "The mean of the midterm marks are:\n",
            " 48.959 \n",
            "\n",
            "The mean of the final marks are:\n",
            " 72.735 \n",
            "\n",
            "The standard deviation of the midterm marks are:\n",
            " 9.746494785617061 \n",
            "\n",
            "The standard deviation of the final marks are:\n",
            " 16.658248631676365 \n",
            "\n"
          ]
        }
      ]
    },
    {
      "cell_type": "markdown",
      "source": [
        "**Cost, Gradient Descent and learning rate Functions**\n",
        "\n",
        "---\n",
        "\n",
        "\n",
        "\n",
        "---\n",
        "\n"
      ],
      "metadata": {
        "id": "1DrbflZ5YHhH"
      }
    },
    {
      "cell_type": "code",
      "source": [
        "def computeCost(samples, x, y):\n",
        "  # number of samples\n",
        "  n = 100 \n",
        "  # number of iterations\n",
        "  m = -0.5\n",
        "  b = 0\n",
        "  alpha = 0.0001\n",
        "  y_pred = m*x + b\n",
        "  y_act = y\n",
        "  i = 0\n",
        "  cost = (1/n) * np.sum([ans**2 for ans in (y_pred-y_act)])\n",
        "  return cost\n",
        "\n",
        "def gradientDescent(iterations,learningRate,x,y):\n",
        "  # number of samples\n",
        "  n = 100 \n",
        "\n",
        "  # values of m, b, and learning rate\n",
        "  m = -0.5\n",
        "  b = 0\n",
        "  alpha = learningRate\n",
        "  \n",
        "  cost = []\n",
        "  y_act = y\n",
        "\n",
        "  # applying gradient descent algorithm\n",
        "  for iter in range(iterations):\n",
        "    y_pred = m*x + b\n",
        "    cost.append((1/n) * np.sum([ans**2 for ans in (y_pred-y_act)]))\n",
        "    dm = (2/n) * np.sum(-x * (y_act-(y_pred)))\n",
        "    db = (2/n) * np.sum (-1*(y_act-(y_pred)))  \n",
        "    m = m - alpha*dm\n",
        "    b = b - alpha*db\n",
        "\n",
        "  print(f\"this is the m after {iterations} iterations:\",m)\n",
        "  print(f\"this is the b after {iterations} iterations:\",b)\n",
        "\n",
        "  plt.subplot(2,1,1)\n",
        "  plt.tight_layout(pad=2)\n",
        "  plt.scatter(x,y,color='purple')\n",
        "  plt.plot(x,y_pred,label=f'regression line after {iterations} iterations')\n",
        "  plt.title(\"final marks vs midterm marks with regression line graph\")\n",
        "  plt.xlabel(\"midterm marks\")\n",
        "  plt.ylabel(\"final marks\")\n",
        "  plt.legend(loc='upper left')\n",
        "\n",
        "\n",
        "  plt.subplot(2,1,2)\n",
        "  plt.tight_layout(pad=2)\n",
        "  plt.title('cost vs num of iterations graph')\n",
        "  plt.xlabel(f'{iterations} iterations')\n",
        "  plt.ylabel('cost')\n",
        "  plt.plot(range(1,(iterations+1)),cost)"
      ],
      "metadata": {
        "id": "J3gd8ZlMYK_W"
      },
      "execution_count": null,
      "outputs": []
    },
    {
      "cell_type": "markdown",
      "source": [
        "**Standardization**\n",
        "\n",
        "---\n",
        "\n",
        "\n",
        "\n",
        "---\n",
        "\n"
      ],
      "metadata": {
        "id": "A6Ds8gHPsO_C"
      }
    },
    {
      "cell_type": "code",
      "source": [
        "standardizedx = []\n",
        "standardizedy = []\n",
        "for x in midtermMarks:\n",
        "  standardizedx.append((x - midtermMarksMean)/midtermMarksStd)\n",
        "\n",
        "for y in finalMarks:\n",
        "  standardizedy.append((y - finalMarksMean)/finalMarksStd)\n",
        "\n",
        "standardizedMidtermMarks = np.array(standardizedx)\n",
        "standardizedFinalMarks = np.array(standardizedy)"
      ],
      "metadata": {
        "id": "IsmrEgxksT9E"
      },
      "execution_count": null,
      "outputs": []
    },
    {
      "cell_type": "markdown",
      "source": [
        "**Linear Regression**\n",
        "\n",
        "---\n",
        "\n",
        "\n",
        "\n",
        "---\n",
        "\n",
        "\n"
      ],
      "metadata": {
        "id": "Gp3yykfZ8wCC"
      }
    },
    {
      "cell_type": "code",
      "source": [
        "import numpy as np\n",
        "m = -0.5\n",
        "b = 0\n",
        "alpha = 0.0001\n",
        "x = np.linspace(0,70)\n",
        "y = m*x + b\n",
        "\n",
        "plt.scatter(midtermMarks,finalMarks,color='purple')\n",
        "plt.plot(x,y,label='y=-0.5x + b')\n",
        "plt.xlabel(\"midterm marks\")\n",
        "plt.ylabel(\"final marks\")\n",
        "plt.title(\"dataset and initial regression line graph\")\n",
        "plt.legend(loc='upper left')"
      ],
      "metadata": {
        "colab": {
          "base_uri": "https://localhost:8080/",
          "height": 312
        },
        "id": "aJ6PH1jM8w1e",
        "outputId": "0786a81c-1bf2-48b8-e58b-c290bfbca053"
      },
      "execution_count": null,
      "outputs": [
        {
          "output_type": "execute_result",
          "data": {
            "text/plain": [
              "<matplotlib.legend.Legend at 0x7f28acd11f70>"
            ]
          },
          "metadata": {},
          "execution_count": 35
        },
        {
          "output_type": "display_data",
          "data": {
            "text/plain": [
              "<Figure size 432x288 with 1 Axes>"
            ],
            "image/png": "[encoded data removed]"
          },
          "metadata": {
            "needs_background": "light"
          }
        }
      ]
    },
    {
      "cell_type": "markdown",
      "source": [
        "**Error (Cost function)**\n",
        "\n",
        "---\n",
        "\n",
        "\n",
        "\n",
        "---\n",
        "\n"
      ],
      "metadata": {
        "id": "jePBolExAGD8"
      }
    },
    {
      "cell_type": "code",
      "source": [
        "# number of samples\n",
        "n = 100 \n",
        " \n",
        "cost = computeCost(n,standardizedMidtermMarks,standardizedFinalMarks)\n",
        "print(cost)"
      ],
      "metadata": {
        "colab": {
          "base_uri": "https://localhost:8080/"
        },
        "id": "Cs7IT85sAJ4l",
        "outputId": "dc601a6d-5a1b-467e-8d62-6c35259f245a"
      },
      "execution_count": null,
      "outputs": [
        {
          "output_type": "stream",
          "name": "stdout",
          "text": [
            "2.0032433621324923\n"
          ]
        }
      ]
    },
    {
      "cell_type": "markdown",
      "source": [
        "**Gradient Partial Derivatives and updating m and b using a learning rate alpha for 100 iterations with standardization**\n",
        "\n",
        "---\n",
        "\n",
        "\n",
        "---\n",
        "\n"
      ],
      "metadata": {
        "id": "GBNxs-GxXlvQ"
      }
    },
    {
      "cell_type": "code",
      "source": [
        "gradientDescent(100,0.0001,standardizedMidtermMarks,standardizedFinalMarks)\n"
      ],
      "metadata": {
        "colab": {
          "base_uri": "https://localhost:8080/",
          "height": 328
        },
        "id": "59isfP6PXpPQ",
        "outputId": "f19c828b-7b6b-4cd2-8edd-c99dbb41621d"
      },
      "execution_count": null,
      "outputs": [
        {
          "output_type": "stream",
          "name": "stdout",
          "text": [
            "this is the m after 100 iterations: -0.475030672874282\n",
            "this is the b after 100 iterations: -2.501110429875553e-18\n"
          ]
        },
        {
          "output_type": "display_data",
          "data": {
            "text/plain": [
              "<Figure size 432x288 with 2 Axes>"
            ],
            "image/png": "[encoded data removed]"
          },
          "metadata": {
            "needs_background": "light"
          }
        }
      ]
    },
    {
      "cell_type": "markdown",
      "source": [
        "**Gradient Partial Derivatives and updating m and b using a learning rate alpha for 2000 iterations with standardization**"
      ],
      "metadata": {
        "id": "tqFAKB43iV4L"
      }
    },
    {
      "cell_type": "code",
      "source": [
        "gradientDescent(2000,0.0001,standardizedMidtermMarks,standardizedFinalMarks)\n"
      ],
      "metadata": {
        "colab": {
          "base_uri": "https://localhost:8080/",
          "height": 328
        },
        "id": "LJeAwBPHicr4",
        "outputId": "7a84ddf0-12c7-443b-aab7-4b119520d1d1"
      },
      "execution_count": null,
      "outputs": [
        {
          "output_type": "stream",
          "name": "stdout",
          "text": [
            "this is the m after 2000 iterations: -0.08354757025254297\n",
            "this is the b after 2000 iterations: -2.195710280261667e-17\n"
          ]
        },
        {
          "output_type": "display_data",
          "data": {
            "text/plain": [
              "<Figure size 432x288 with 2 Axes>"
            ],
            "image/png": "[encoded data removed]"
          },
          "metadata": {
            "needs_background": "light"
          }
        }
      ]
    },
    {
      "cell_type": "markdown",
      "source": [
        "**Verify Results with standardization**"
      ],
      "metadata": {
        "id": "Es0O8agz7qdW"
      }
    },
    {
      "cell_type": "code",
      "source": [
        "from sklearn.linear_model import LinearRegression\n",
        "X = pd.DataFrame(standardizedMidtermMarks)\n",
        "X = X.values.reshape(-1,1)\n",
        "Y = pd.DataFrame(standardizedFinalMarks)\n",
        "Y = Y.values.reshape(-1,1)\n",
        "\n",
        "lin_regression = LinearRegression()\n",
        "lin_regression_model = lin_regression.fit(X,Y)\n",
        "\n",
        "model_score = lin_regression_model.score(X,Y)\n",
        "\n",
        "log_message = f'The score of the model is: {model_score}.'\n",
        "print(log_message)\n",
        "\n",
        "log_message = f'The coef of the model is: {lin_regression_model.coef_}.'\n",
        "print(log_message)\n",
        "\n",
        "log_message = f'The intercept of the model is: {lin_regression_model.intercept_}.'\n",
        "print(log_message) \n",
        "\n",
        "model_predict = lin_regression_model.predict(X)\n",
        "log_message = f'The model predictions for the samne values are:\\n X =\\n {X}\\n predictions = \\n ${model_predict}.'\n",
        "print(log_message) \n",
        "\n",
        "plt.scatter(X,Y)\n",
        "plt.plot(X, model_predict, color='red', linewidth=3)\n",
        "plt.show()\n"
      ],
      "metadata": {
        "colab": {
          "base_uri": "https://localhost:8080/",
          "height": 1000
        },
        "id": "D3fvYa_H7qqC",
        "outputId": "8e2c6d4c-c1b2-475d-d36e-3128f13c32a4"
      },
      "execution_count": null,
      "outputs": [
        {
          "output_type": "stream",
          "name": "stdout",
          "text": [
            "The score of the model is: 0.5982684385776689.\n",
            "The coef of the model is: [[0.77347814]].\n",
            "The intercept of the model is: [2.38813766e-16].\n",
            "The model predictions for the samne values are:\n",
            " X =\n",
            " [[-1.68870967]\n",
            " [ 0.45565099]\n",
            " [ 1.286719  ]\n",
            " [-0.14969484]\n",
            " [ 1.11229732]\n",
            " [ 0.63007267]\n",
            " [ 0.3325298 ]\n",
            " [-0.99102295]\n",
            " [-0.08813425]\n",
            " [ 0.3735702 ]\n",
            " [-0.36515692]\n",
            " [ 0.55825198]\n",
            " [-0.4882781 ]\n",
            " [ 0.94813574]\n",
            " [ 0.79423425]\n",
            " [ 0.00420664]\n",
            " [-0.43697761]\n",
            " [ 1.16359781]\n",
            " [-0.34463672]\n",
            " [-1.04232344]\n",
            " [ 1.76894364]\n",
            " [ 1.68686285]\n",
            " [-0.14969484]\n",
            " [-0.75504067]\n",
            " [ 0.29148941]\n",
            " [ 1.07125692]\n",
            " [ 0.85579485]\n",
            " [ 1.50218107]\n",
            " [-0.23177563]\n",
            " [ 0.16836822]\n",
            " [ 0.3325298 ]\n",
            " [-1.37064661]\n",
            " [-0.67295988]\n",
            " [ 0.94813574]\n",
            " [ 0.87631504]\n",
            " [-0.36515692]\n",
            " [ 1.32775939]\n",
            " [-1.62714908]\n",
            " [-1.28856582]\n",
            " [-1.15518453]\n",
            " [-0.44723771]\n",
            " [-0.58061899]\n",
            " [ 0.11706773]\n",
            " [-0.5190584 ]\n",
            " [ 1.44062048]\n",
            " [-1.66818947]\n",
            " [-0.89868206]\n",
            " [ 0.47617119]\n",
            " [-1.54506829]\n",
            " [ 1.61504216]\n",
            " [-1.11414413]\n",
            " [-0.45749781]\n",
            " [-0.85764166]\n",
            " [-0.74478058]\n",
            " [ 0.21966872]\n",
            " [ 0.63007267]\n",
            " [-0.77556087]\n",
            " [ 1.38931999]\n",
            " [ 0.02472684]\n",
            " [-0.80634117]\n",
            " [-0.79608107]\n",
            " [ 0.12732783]\n",
            " [ 0.35305   ]\n",
            " [ 0.11706773]\n",
            " [-1.57584858]\n",
            " [-0.96024265]\n",
            " [ 0.73267366]\n",
            " [ 0.86605494]\n",
            " [ 1.16359781]\n",
            " [-1.36038651]\n",
            " [-1.78105056]\n",
            " [ 0.48643129]\n",
            " [-0.23177563]\n",
            " [-0.60113919]\n",
            " [ 2.1896077 ]\n",
            " [-0.45749781]\n",
            " [ 0.87631504]\n",
            " [-1.23726532]\n",
            " [ 0.70189336]\n",
            " [-1.02180325]\n",
            " [ 0.81475445]\n",
            " [ 0.81475445]\n",
            " [-1.50402789]\n",
            " [ 1.03021653]\n",
            " [ 0.90709534]\n",
            " [ 0.54799188]\n",
            " [ 0.21966872]\n",
            " [ 0.13758793]\n",
            " [-0.4882781 ]\n",
            " [-1.12440423]\n",
            " [-1.64766928]\n",
            " [ 0.48643129]\n",
            " [ 2.03570621]\n",
            " [-0.28307613]\n",
            " [ 1.98440572]\n",
            " [ 0.10680763]\n",
            " [ 0.02472684]\n",
            " [ 0.10680763]\n",
            " [-0.08813425]\n",
            " [-2.44795699]]\n",
            " predictions = \n",
            " $[[-1.30618002]\n",
            " [ 0.35243608]\n",
            " [ 0.99524902]\n",
            " [-0.11578569]\n",
            " [ 0.86033766]\n",
            " [ 0.48734744]\n",
            " [ 0.25720454]\n",
            " [-0.76653459]\n",
            " [-0.06816992]\n",
            " [ 0.28894838]\n",
            " [-0.2824409 ]\n",
            " [ 0.4317957 ]\n",
            " [-0.37767244]\n",
            " [ 0.73336227]\n",
            " [ 0.61432284]\n",
            " [ 0.00325374]\n",
            " [-0.33799263]\n",
            " [ 0.90001747]\n",
            " [-0.26656897]\n",
            " [-0.8062144 ]\n",
            " [ 1.36823925]\n",
            " [ 1.30475155]\n",
            " [-0.11578569]\n",
            " [-0.58400746]\n",
            " [ 0.22546069]\n",
            " [ 0.82859381]\n",
            " [ 0.66193861]\n",
            " [ 1.16190423]\n",
            " [-0.17927339]\n",
            " [ 0.13022914]\n",
            " [ 0.25720454]\n",
            " [-1.06016519]\n",
            " [-0.52051976]\n",
            " [ 0.73336227]\n",
            " [ 0.67781053]\n",
            " [-0.2824409 ]\n",
            " [ 1.02699287]\n",
            " [-1.25856425]\n",
            " [-0.99667749]\n",
            " [-0.89350999]\n",
            " [-0.34592859]\n",
            " [-0.4490961 ]\n",
            " [ 0.09054933]\n",
            " [-0.40148033]\n",
            " [ 1.11428845]\n",
            " [-1.2903081 ]\n",
            " [-0.69511093]\n",
            " [ 0.36830801]\n",
            " [-1.19507655]\n",
            " [ 1.24919981]\n",
            " [-0.86176614]\n",
            " [-0.35386456]\n",
            " [-0.66336708]\n",
            " [-0.5760715 ]\n",
            " [ 0.16990895]\n",
            " [ 0.48734744]\n",
            " [-0.59987938]\n",
            " [ 1.07460864]\n",
            " [ 0.01912567]\n",
            " [-0.62368727]\n",
            " [-0.61575131]\n",
            " [ 0.09848529]\n",
            " [ 0.27307646]\n",
            " [ 0.09054933]\n",
            " [-1.21888444]\n",
            " [-0.7427267 ]\n",
            " [ 0.56670706]\n",
            " [ 0.66987457]\n",
            " [ 0.90001747]\n",
            " [-1.05222923]\n",
            " [-1.37760368]\n",
            " [ 0.37624397]\n",
            " [-0.17927339]\n",
            " [-0.46496803]\n",
            " [ 1.6936137 ]\n",
            " [-0.35386456]\n",
            " [ 0.67781053]\n",
            " [-0.95699768]\n",
            " [ 0.54289918]\n",
            " [-0.79034248]\n",
            " [ 0.63019476]\n",
            " [ 0.63019476]\n",
            " [-1.1633327 ]\n",
            " [ 0.79684997]\n",
            " [ 0.70161842]\n",
            " [ 0.42385974]\n",
            " [ 0.16990895]\n",
            " [ 0.10642125]\n",
            " [-0.37767244]\n",
            " [-0.8697021 ]\n",
            " [-1.27443617]\n",
            " [ 0.37624397]\n",
            " [ 1.57457426]\n",
            " [-0.2189532 ]\n",
            " [ 1.53489445]\n",
            " [ 0.08261337]\n",
            " [ 0.01912567]\n",
            " [ 0.08261337]\n",
            " [-0.06816992]\n",
            " [-1.89344123]].\n"
          ]
        },
        {
          "output_type": "display_data",
          "data": {
            "text/plain": [
              "<Figure size 432x288 with 1 Axes>"
            ],
            "image/png": "[encoded data removed]"
          },
          "metadata": {
            "needs_background": "light"
          }
        }
      ]
    },
    {
      "cell_type": "markdown",
      "source": [
        "**Error (Cost function) without standardization**\n",
        "\n",
        "---\n",
        "\n",
        "\n",
        "\n",
        "---\n",
        "\n"
      ],
      "metadata": {
        "id": "jdlEVxiWrznd"
      }
    },
    {
      "cell_type": "code",
      "source": [
        "# number of samples\n",
        "n = 100 \n",
        "\n",
        "cost = computeCost(n,midtermMarks,finalMarks)\n",
        "print(cost)\n"
      ],
      "metadata": {
        "colab": {
          "base_uri": "https://localhost:8080/"
        },
        "id": "B6aBy_7ksG3u",
        "outputId": "993518d9-3db2-49eb-ded3-f9e7e3b56bb8"
      },
      "execution_count": null,
      "outputs": [
        {
          "output_type": "stream",
          "name": "stdout",
          "text": [
            "9873.218075\n"
          ]
        }
      ]
    },
    {
      "cell_type": "markdown",
      "source": [
        "**Gradient Partial Derivatives and updating m and b using a learning rate alpha for 100 iterations without standardization**\\\n",
        "\n",
        "---\n",
        "\n",
        "\n",
        "\n",
        "---\n",
        "\n",
        "\n"
      ],
      "metadata": {
        "id": "Qw1Gytbkrz8a"
      }
    },
    {
      "cell_type": "code",
      "source": [
        "gradientDescent(100,0.0001,midtermMarks,finalMarks)"
      ],
      "metadata": {
        "colab": {
          "base_uri": "https://localhost:8080/",
          "height": 328
        },
        "id": "tIRy9GNmsHQK",
        "outputId": "5893efc1-9e0a-4ee0-ce5a-9b880782eb8c"
      },
      "execution_count": null,
      "outputs": [
        {
          "output_type": "stream",
          "name": "stdout",
          "text": [
            "this is the m after 100 iterations: 1.4785727560143909\n",
            "this is the b after 100 iterations: 0.04490536397288713\n"
          ]
        },
        {
          "output_type": "display_data",
          "data": {
            "text/plain": [
              "<Figure size 432x288 with 2 Axes>"
            ],
            "image/png": "[encoded data removed]"
          },
          "metadata": {
            "needs_background": "light"
          }
        }
      ]
    },
    {
      "cell_type": "markdown",
      "source": [
        "**Gradient Partial Derivatives and updating m and b using a learning rate alpha for 2000 iterations without standardization**\n",
        "\n",
        "---\n",
        "\n",
        "\n",
        "\n",
        "---\n",
        "\n"
      ],
      "metadata": {
        "id": "PiOZgAfsr0Nk"
      }
    },
    {
      "cell_type": "code",
      "source": [
        "gradientDescent(2000,0.0001,midtermMarks,finalMarks)\n"
      ],
      "metadata": {
        "colab": {
          "base_uri": "https://localhost:8080/",
          "height": 328
        },
        "id": "sRvAK6kMsHsw",
        "outputId": "cafabc86-bb94-451d-9c81-ba86066d22bc"
      },
      "execution_count": null,
      "outputs": [
        {
          "output_type": "stream",
          "name": "stdout",
          "text": [
            "this is the m after 2000 iterations: 1.4763433036607632\n",
            "this is the b after 2000 iterations: 0.1583379070844271\n"
          ]
        },
        {
          "output_type": "display_data",
          "data": {
            "text/plain": [
              "<Figure size 432x288 with 2 Axes>"
            ],
            "image/png": "[encoded data removed]"
          },
          "metadata": {
            "needs_background": "light"
          }
        }
      ]
    },
    {
      "cell_type": "markdown",
      "source": [
        "**Verify Results without Standardization**"
      ],
      "metadata": {
        "id": "rFGVgfr27jmM"
      }
    },
    {
      "cell_type": "code",
      "source": [
        "from sklearn.linear_model import LinearRegression\n",
        "X = pd.DataFrame(midtermMarks)\n",
        "X = X.values.reshape(-1,1)\n",
        "Y = pd.DataFrame(finalMarks)\n",
        "Y = Y.values.reshape(-1,1)\n",
        "\n",
        "lin_regression = LinearRegression()\n",
        "lin_regression_model = lin_regression.fit(X,Y)\n",
        "\n",
        "model_score = lin_regression_model.score(X,Y)\n",
        "\n",
        "log_message = f'The score of the model is: {model_score}.'\n",
        "print(log_message)\n",
        "\n",
        "log_message = f'The coef of the model is: {lin_regression_model.coef_}.'\n",
        "print(log_message)\n",
        "\n",
        "log_message = f'The intercept of the model is: {lin_regression_model.intercept_}.'\n",
        "print(log_message) \n",
        "\n",
        "model_predict = lin_regression_model.predict(X)\n",
        "log_message = f'The model predictions for the samne values are:\\n X =\\n {X}\\n predictions = \\n ${model_predict}.'\n",
        "print(log_message) \n",
        "\n",
        "plt.scatter(X,Y)\n",
        "plt.plot(X, model_predict, color='red', linewidth=3)\n",
        "plt.show()"
      ],
      "metadata": {
        "colab": {
          "base_uri": "https://localhost:8080/",
          "height": 1000
        },
        "id": "P2P6fSji7oYS",
        "outputId": "a590a0a1-9330-4e21-9305-30f3f8a3ebb3"
      },
      "execution_count": null,
      "outputs": [
        {
          "output_type": "stream",
          "name": "stdout",
          "text": [
            "The score of the model is: 0.5982684385776686.\n",
            "The coef of the model is: [[1.32199232]].\n",
            "The intercept of the model is: [8.01157814].\n",
            "The model predictions for the samne values are:\n",
            " X =\n",
            " [[32.5]\n",
            " [53.4]\n",
            " [61.5]\n",
            " [47.5]\n",
            " [59.8]\n",
            " [55.1]\n",
            " [52.2]\n",
            " [39.3]\n",
            " [48.1]\n",
            " [52.6]\n",
            " [45.4]\n",
            " [54.4]\n",
            " [44.2]\n",
            " [58.2]\n",
            " [56.7]\n",
            " [49. ]\n",
            " [44.7]\n",
            " [60.3]\n",
            " [45.6]\n",
            " [38.8]\n",
            " [66.2]\n",
            " [65.4]\n",
            " [47.5]\n",
            " [41.6]\n",
            " [51.8]\n",
            " [59.4]\n",
            " [57.3]\n",
            " [63.6]\n",
            " [46.7]\n",
            " [50.6]\n",
            " [52.2]\n",
            " [35.6]\n",
            " [42.4]\n",
            " [58.2]\n",
            " [57.5]\n",
            " [45.4]\n",
            " [61.9]\n",
            " [33.1]\n",
            " [36.4]\n",
            " [37.7]\n",
            " [44.6]\n",
            " [43.3]\n",
            " [50.1]\n",
            " [43.9]\n",
            " [63. ]\n",
            " [32.7]\n",
            " [40.2]\n",
            " [53.6]\n",
            " [33.9]\n",
            " [64.7]\n",
            " [38.1]\n",
            " [44.5]\n",
            " [40.6]\n",
            " [41.7]\n",
            " [51.1]\n",
            " [55.1]\n",
            " [41.4]\n",
            " [62.5]\n",
            " [49.2]\n",
            " [41.1]\n",
            " [41.2]\n",
            " [50.2]\n",
            " [52.4]\n",
            " [50.1]\n",
            " [33.6]\n",
            " [39.6]\n",
            " [56.1]\n",
            " [57.4]\n",
            " [60.3]\n",
            " [35.7]\n",
            " [31.6]\n",
            " [53.7]\n",
            " [46.7]\n",
            " [43.1]\n",
            " [70.3]\n",
            " [44.5]\n",
            " [57.5]\n",
            " [36.9]\n",
            " [55.8]\n",
            " [39. ]\n",
            " [56.9]\n",
            " [56.9]\n",
            " [34.3]\n",
            " [59. ]\n",
            " [57.8]\n",
            " [54.3]\n",
            " [51.1]\n",
            " [50.3]\n",
            " [44.2]\n",
            " [38. ]\n",
            " [32.9]\n",
            " [53.7]\n",
            " [68.8]\n",
            " [46.2]\n",
            " [68.3]\n",
            " [50. ]\n",
            " [49.2]\n",
            " [50. ]\n",
            " [48.1]\n",
            " [25.1]]\n",
            " predictions = \n",
            " $[[ 50.97632845]\n",
            " [ 78.60596788]\n",
            " [ 89.31410565]\n",
            " [ 70.80621321]\n",
            " [ 87.06671871]\n",
            " [ 80.85335482]\n",
            " [ 77.0195771 ]\n",
            " [ 59.96587621]\n",
            " [ 71.5994086 ]\n",
            " [ 77.54837403]\n",
            " [ 68.03002934]\n",
            " [ 79.9279602 ]\n",
            " [ 66.44363856]\n",
            " [ 84.951531  ]\n",
            " [ 82.96854253]\n",
            " [ 72.78920169]\n",
            " [ 67.10463472]\n",
            " [ 87.72771487]\n",
            " [ 68.29442781]\n",
            " [ 59.30488005]\n",
            " [ 95.52746954]\n",
            " [ 94.46987569]\n",
            " [ 70.80621321]\n",
            " [ 63.00645854]\n",
            " [ 76.49078017]\n",
            " [ 86.53792178]\n",
            " [ 83.76173792]\n",
            " [ 92.09028952]\n",
            " [ 69.74861936]\n",
            " [ 74.90438939]\n",
            " [ 77.0195771 ]\n",
            " [ 55.07450463]\n",
            " [ 64.06405239]\n",
            " [ 84.951531  ]\n",
            " [ 84.02613638]\n",
            " [ 68.03002934]\n",
            " [ 89.84290258]\n",
            " [ 51.76952384]\n",
            " [ 56.13209849]\n",
            " [ 57.8506885 ]\n",
            " [ 66.97243549]\n",
            " [ 65.25384548]\n",
            " [ 74.24339323]\n",
            " [ 66.04704087]\n",
            " [ 91.29709413]\n",
            " [ 51.24072691]\n",
            " [ 61.15566929]\n",
            " [ 78.87036634]\n",
            " [ 52.82711769]\n",
            " [ 93.54448107]\n",
            " [ 58.37948543]\n",
            " [ 66.84023626]\n",
            " [ 61.68446622]\n",
            " [ 63.13865777]\n",
            " [ 75.56538555]\n",
            " [ 80.85335482]\n",
            " [ 62.74206007]\n",
            " [ 90.63609797]\n",
            " [ 73.05360015]\n",
            " [ 62.34546238]\n",
            " [ 62.47766161]\n",
            " [ 74.37559247]\n",
            " [ 77.28397556]\n",
            " [ 74.24339323]\n",
            " [ 52.43052   ]\n",
            " [ 60.3624739 ]\n",
            " [ 82.17534714]\n",
            " [ 83.89393715]\n",
            " [ 87.72771487]\n",
            " [ 55.20670387]\n",
            " [ 49.78653536]\n",
            " [ 79.00256558]\n",
            " [ 69.74861936]\n",
            " [ 64.98944701]\n",
            " [100.94763804]\n",
            " [ 66.84023626]\n",
            " [ 84.02613638]\n",
            " [ 56.79309465]\n",
            " [ 81.77874944]\n",
            " [ 59.56927851]\n",
            " [ 83.23294099]\n",
            " [ 83.23294099]\n",
            " [ 53.35591462]\n",
            " [ 86.00912486]\n",
            " [ 84.42273408]\n",
            " [ 79.79576097]\n",
            " [ 75.56538555]\n",
            " [ 74.5077917 ]\n",
            " [ 66.44363856]\n",
            " [ 58.2472862 ]\n",
            " [ 51.50512538]\n",
            " [ 79.00256558]\n",
            " [ 98.96464957]\n",
            " [ 69.0876232 ]\n",
            " [ 98.30365341]\n",
            " [ 74.111194  ]\n",
            " [ 73.05360015]\n",
            " [ 74.111194  ]\n",
            " [ 71.5994086 ]\n",
            " [ 41.1935853 ]].\n"
          ]
        },
        {
          "output_type": "display_data",
          "data": {
            "text/plain": [
              "<Figure size 432x288 with 1 Axes>"
            ],
            "image/png": "[encoded data removed]"
          },
          "metadata": {
            "needs_background": "light"
          }
        }
      ]
    },
    {
      "cell_type": "markdown",
      "source": [
        "Q1: Write your observation by changing the learning rate to 0.1. Include error plots while explaining your observation.\n",
        "\n",
        "---\n",
        "\n",
        "\n",
        "\n",
        "---\n",
        "As shown in the two code blocks down  below, when changing the learning rate to 0.1, it speeds up the process of fitting the regression line in the given data set, with 0.0001 learning rate, we noticed that the regression line needed a lot more than 2000 iterations in order to fully fit in the dataset, as opposed to 0.1 learning rate, which caused the regression line to fit the dataset in less number of iterations."
      ],
      "metadata": {
        "id": "PuDY1w5GNTA8"
      }
    },
    {
      "cell_type": "code",
      "source": [
        "gradientDescent(100,0.1,standardizedMidtermMarks,standardizedFinalMarks)\n"
      ],
      "metadata": {
        "colab": {
          "base_uri": "https://localhost:8080/",
          "height": 328
        },
        "id": "2mW2Pw2hNR6c",
        "outputId": "bdde163b-ec80-40f2-dd05-229b16896970"
      },
      "execution_count": null,
      "outputs": [
        {
          "output_type": "stream",
          "name": "stdout",
          "text": [
            "this is the m after 100 iterations: 0.773478143235186\n",
            "this is the b after 100 iterations: 2.1671553440683063e-16\n"
          ]
        },
        {
          "output_type": "display_data",
          "data": {
            "text/plain": [
              "<Figure size 432x288 with 2 Axes>"
            ],
            "image/png": "[encoded data removed]"
          },
          "metadata": {
            "needs_background": "light"
          }
        }
      ]
    },
    {
      "cell_type": "code",
      "source": [
        "gradientDescent(2000,0.1,standardizedMidtermMarks,standardizedFinalMarks)\n"
      ],
      "metadata": {
        "colab": {
          "base_uri": "https://localhost:8080/",
          "height": 328
        },
        "id": "j5AoxhgDN3AF",
        "outputId": "eba0615f-79df-4db8-ec97-ba8fcd32696e"
      },
      "execution_count": null,
      "outputs": [
        {
          "output_type": "stream",
          "name": "stdout",
          "text": [
            "this is the m after 2000 iterations: 0.7734781435681736\n",
            "this is the b after 2000 iterations: 2.0583534876550393e-16\n"
          ]
        },
        {
          "output_type": "display_data",
          "data": {
            "text/plain": [
              "<Figure size 432x288 with 2 Axes>"
            ],
            "image/png": "[encoded data removed]"
          },
          "metadata": {
            "needs_background": "light"
          }
        }
      ]
    },
    {
      "cell_type": "markdown",
      "source": [
        "Q2: Investigate the effect of standardization.\n",
        "\n",
        "\n",
        "\n",
        "---\n",
        "\n",
        "\n",
        "\n",
        "---\n",
        "\n",
        "Standardization causes our dataset to have a mean of zero and a standard deviation of 1, removing any outliers in the dataset that can affect the accuracy of the of model, essentially, it brings all numerical features to a similar scale. In this case, without standardization, the gradient descent function did not perform well at a 0.1 learning rate, where it was okay at a rate of 0.0001. As opposed to when I did standardization, it took more iterations for the regression line to fit into the dataset, but there was no issues with the gradient descent algorithm."
      ],
      "metadata": {
        "id": "ZfiX8K8bNcMC"
      }
    }
  ]
}